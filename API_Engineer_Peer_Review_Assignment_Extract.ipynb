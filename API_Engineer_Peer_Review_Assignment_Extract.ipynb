{
 "cells": [
  {
   "cell_type": "markdown",
   "metadata": {},
   "source": [
    "<p style=\"text-align:center\">\n",
    "    <a href=\"https://skills.network/?utm_medium=Exinfluencer&utm_source=Exinfluencer&utm_content=000026UJ&utm_term=10006555&utm_id=NA-SkillsNetwork-Channel-SkillsNetworkCoursesIBMDeveloperSkillsNetworkPY0221ENSkillsNetwork899-2023-01-01\">\n",
    "    <img src=\"https://cf-courses-data.s3.us.cloud-object-storage.appdomain.cloud/assets/logos/SN_web_lightmode.png\" width=\"200\" alt=\"Skills Network Logo\"  />\n",
    "    </a>\n",
    "</p>\n"
   ]
  },
  {
   "cell_type": "markdown",
   "metadata": {},
   "source": [
    "# Peer Review Assignment - Data Engineer - Extract API Data\n"
   ]
  },
  {
   "cell_type": "markdown",
   "metadata": {},
   "source": [
    "Estimated time needed: **20** minutes\n"
   ]
  },
  {
   "cell_type": "markdown",
   "metadata": {},
   "source": [
    "## Objectives\n",
    "\n",
    "In this part you will:\n",
    "\n",
    "-   Collect exchange rate data using an API\n",
    "-   Store the data as a CSV\n"
   ]
  },
  {
   "cell_type": "markdown",
   "metadata": {},
   "source": [
    "For this lab, we are going to be using Python and several Python libraries. Some of these libraries might be installed in your lab environment or in SN Labs. Others may need to be installed by you. The cells below will install these libraries when executed.\n"
   ]
  },
  {
   "cell_type": "code",
   "execution_count": 1,
   "metadata": {
    "tags": []
   },
   "outputs": [],
   "source": [
    "#!mamba install pandas==1.3.3 -y\n",
    "#!mamba install requests==2.26.0 -y"
   ]
  },
  {
   "cell_type": "markdown",
   "metadata": {},
   "source": [
    "## Imports\n",
    "\n",
    "Import any additional libraries you may need here.\n"
   ]
  },
  {
   "cell_type": "code",
   "execution_count": 2,
   "metadata": {
    "tags": []
   },
   "outputs": [],
   "source": [
    "import requests\n",
    "import pandas as pd"
   ]
  },
  {
   "cell_type": "markdown",
   "metadata": {},
   "source": [
    "## Extract Data Using an API\n"
   ]
  },
  {
   "cell_type": "markdown",
   "metadata": {},
   "source": [
    "Using ExchangeRate-API we will extract currency exchange rate data. Use the below steps to get the access key and to get the data. \n",
    "1. Open the url : https://exchangeratesapi.io/ and click on **Get Free API Key**. \n",
    "2. Subscribe for Free plan and Sign-in with the Google Account. \n",
    "3. Once the account is created you will be redirected to https://apilayer.com website.\n",
    "2. Now, click on the **user icon** and click **Account** as shown below:\n",
    "\n",
    "<img src=\"https://cf-courses-data.s3.us.cloud-object-storage.appdomain.cloud/IBMDeveloperSkillsNetwork-PY0221EN-SkillsNetwork/labs/module%206/Final%20Assignment/Images/account.png\">\n",
    "\n",
    "3. Scroll down and you will get the API Key section. Copy the API key and use in the url in Question 1.\n"
   ]
  },
  {
   "cell_type": "markdown",
   "metadata": {},
   "source": [
    "### Call the API\n",
    "\n",
    " <b> Question 1</b> Using the `requests` library call the endpoint given above and save the text, remember the first few characters of the output: \n"
   ]
  },
  {
   "cell_type": "code",
   "execution_count": 10,
   "metadata": {
    "tags": []
   },
   "outputs": [
    {
     "data": {
      "text/plain": [
       "'{\"success\":true,\"timestamp\":1685715243,\"base\":\"EUR\",\"date\":\"2023-06-02\",\"rates\":{\"AED\":3.945903,\"AFN\":93.671386,\"ALL\":108.623727,\"AMD\":415.985618,\"ANG\":1.936466,\"AOA\":633.315883,\"ARS\":258.536026,\"AUD\":1.621774,\"AWG\":1.936403,\"AZN\":1.829468,\"BAM\":1.951662,\"BBD\":2.1694,\"BDT\":115.265599,\"BGN\":1.955738,\"BHD\":0.405059,\"BIF\":3032.370382,\"BMD\":1.074287,\"BND\":1.444836,\"BOB\":7.424327,\"BRL\":5.322339,\"BSD\":1.074422,\"BTC\":3.9868073e-5,\"BTN\":88.400186,\"BWP\":14.677878,\"BYN\":2.712549,\"BYR\":21056.028326,\"BZD\":2.165808,\"CAD\":1.44294,\"CDF\":2505.23744,\"CHF\":0.975109,\"CLF\":0.031175,\"CLP\":860.180517,\"CNY\":7.608317,\"COP\":4690.165852,\"CRC\":578.977767,\"CUC\":1.074287,\"CUP\":28.46861,\"CVE\":110.038219,\"CZK\":23.642921,\"DJF\":191.304372,\"DKK\":7.44846,\"DOP\":58.737644,\"DZD\":146.523655,\"EGP\":33.199445,\"ERN\":16.114307,\"ETB\":58.683618,\"EUR\":1,\"FJD\":2.402323,\"FKP\":0.856991,\"GBP\":0.85856,\"GEL\":2.79856,\"GGP\":0.856991,\"GHS\":11.980708,\"GIP\":0.856991,\"GMD\":63.995147,\"GNF\":9236.415774,\"GTQ\":8.413161,\"GYD\":227.256603,\"HKD\":8.419672,\"HNL\":26.411998,\"HRK\":7.460216,\"HTG\":150.959916,\"HUF\":370.610792,\"IDR\":15947.954025,\"ILS\":4.020637,\"IMP\":0.856991,\"INR\":88.488493,\"IQD\":1406.417933,\"IRR\":45442.346852,\"ISK\":150.303288,\"JEP\":0.856991,\"JMD\":166.177649,\"JOD\":0.761993,\"JPY\":149.782509,\"KES\":149.112214,\"KGS\":94.096623,\"KHR\":4424.61836,\"KMF\":495.622356,\"KPW\":966.817049,\"KRW\":1401.741129,\"KWD\":0.330429,\"KYD\":0.895401,\"KZT\":482.197583,\"LAK\":19328.197809,\"LBP\":16127.554427,\"LKR\":311.8388,\"LRD\":181.688784,\"LSL\":21.174088,\"LTL\":3.17209,\"LVL\":0.649826,\"LYD\":5.191066,\"MAD\":10.907772,\"MDL\":19.066283,\"MGA\":4734.006423,\"MKD\":61.479643,\"MMK\":2256.315872,\"MNT\":3733.670851,\"MOP\":8.674311,\"MRO\":383.520331,\"MUR\":48.886913,\"MVR\":16.439674,\"MWK\":1098.711282,\"MXN\":18.744323,\"MYR\":4.917548,\"MZN\":67.948686,\"NAD\":21.18433,\"NGN\":495.698148,\"NIO\":39.296678,\"NOK\":11.818104,\"NPR\":141.440417,\"NZD\":1.766585,\"OMR\":0.413611,\"PAB\":1.074432,\"PEN\":3.959205,\"PGK\":3.861812,\"PHP\":60.136422,\"PKR\":306.862052,\"PLN\":4.496515,\"PYG\":7778.796041,\"QAR\":3.911505,\"RON\":4.963634,\"RSD\":117.290699,\"RUB\":87.295474,\"RWF\":1214.125656,\"SAR\":4.029308,\"SBD\":8.953288,\"SCR\":14.291909,\"SDG\":645.646194,\"SEK\":11.550724,\"SGD\":1.447323,\"SHP\":1.307139,\"SLE\":24.268897,\"SLL\":21217.17132,\"SOS\":610.733558,\"SRD\":40.638074,\"STD\":22235.575224,\"SVC\":9.401416,\"SYP\":2699.092902,\"SZL\":20.877732,\"THB\":37.284749,\"TJS\":11.732922,\"TMT\":3.760005,\"TND\":3.320353,\"TOP\":2.548585,\"TRY\":22.436914,\"TTD\":7.287616,\"TWD\":32.963642,\"TZS\":2543.912318,\"UAH\":39.683059,\"UGX\":4018.479508,\"USD\":1.074287,\"UYU\":41.682202,\"UZS\":12277.966691,\"VEF\":2812848.932872,\"VES\":28.07241,\"VND\":25226.948222,\"VUV\":130.06089,\"WST\":2.941488,\"XAF\":654.575179,\"XAG\":0.045247,\"XAU\":0.000547,\"XCD\":2.903315,\"XDR\":0.806889,\"XOF\":654.57822,\"XPF\":120.536655,\"YER\":268.947874,\"ZAR\":20.918628,\"ZMK\":9669.866457,\"ZMW\":21.177294,\"ZWL\":345.920027}}'"
      ]
     },
     "execution_count": 10,
     "metadata": {},
     "output_type": "execute_result"
    }
   ],
   "source": [
    "# Write your code here\n",
    "url = \"http://api.exchangeratesapi.io/v1/latest?access_key=a459859a1570a10a2f9ff6a7b27000e8\" #Make sure to change ******* to your API key.\n",
    "html_data = requests.get(url).text\n",
    "html_data"
   ]
  },
  {
   "cell_type": "markdown",
   "metadata": {},
   "source": [
    "### Save as DataFrame\n",
    "\n",
    " <b> Question 2</b>  Using the data gathered turn it into a `pandas` dataframe. The dataframe should have the Currency as the index and `Rate` as their columns. Make sure to drop unnecessary columns.\n"
   ]
  },
  {
   "cell_type": "code",
   "execution_count": 42,
   "metadata": {
    "tags": []
   },
   "outputs": [
    {
     "name": "stdout",
     "output_type": "stream",
     "text": [
      "     success   timestamp base        date        rates\n",
      "AED     True  1685715243  EUR  2023-06-02     3.945903\n",
      "AFN     True  1685715243  EUR  2023-06-02    93.671386\n",
      "ALL     True  1685715243  EUR  2023-06-02   108.623727\n",
      "AMD     True  1685715243  EUR  2023-06-02   415.985618\n",
      "ANG     True  1685715243  EUR  2023-06-02     1.936466\n",
      "..       ...         ...  ...         ...          ...\n",
      "YER     True  1685715243  EUR  2023-06-02   268.947874\n",
      "ZAR     True  1685715243  EUR  2023-06-02    20.918628\n",
      "ZMK     True  1685715243  EUR  2023-06-02  9669.866457\n",
      "ZMW     True  1685715243  EUR  2023-06-02    21.177294\n",
      "ZWL     True  1685715243  EUR  2023-06-02   345.920027\n",
      "\n",
      "[170 rows x 5 columns]\n"
     ]
    }
   ],
   "source": [
    "# Turn the data into a dataframe\n",
    "import json\n",
    "df = pd.DataFrame(json.loads(html_data))\n",
    "print(df)"
   ]
  },
  {
   "cell_type": "code",
   "execution_count": 43,
   "metadata": {
    "tags": []
   },
   "outputs": [
    {
     "name": "stdout",
     "output_type": "stream",
     "text": [
      "           rates\n",
      "AED     3.945903\n",
      "AFN    93.671386\n",
      "ALL   108.623727\n",
      "AMD   415.985618\n",
      "ANG     1.936466\n",
      "..           ...\n",
      "YER   268.947874\n",
      "ZAR    20.918628\n",
      "ZMK  9669.866457\n",
      "ZMW    21.177294\n",
      "ZWL   345.920027\n",
      "\n",
      "[170 rows x 1 columns]\n"
     ]
    }
   ],
   "source": [
    "# Drop unnescessary columns\n",
    "df = df.drop(columns = [\"success\", \"timestamp\", \"base\", \"date\"])\n",
    "print(df)"
   ]
  },
  {
   "cell_type": "markdown",
   "metadata": {},
   "source": [
    "### Load the Data\n",
    "\n",
    "Using the dataframe save it as a CSV names `exchange_rates_1.csv`.\n"
   ]
  },
  {
   "cell_type": "code",
   "execution_count": 49,
   "metadata": {
    "tags": []
   },
   "outputs": [],
   "source": [
    "# Save the Dataframe\n",
    "df.index.name = 'Currency'\n",
    "df.to_csv('exchange_rates_1.csv')"
   ]
  },
  {
   "cell_type": "markdown",
   "metadata": {},
   "source": [
    "Your CSV should be in this format with more currencies\n",
    "\n",
    "| | Rates |\n",
    "| ------- | ------- |\n",
    "|  AED| 4.398618    |\n",
    "|  AFN| 92.917693   |  \n",
    "|  ALL| 123.099093  |\n",
    "|  AMD| 621.935674  |\n",
    "|  ANG| 2.149648    | \n"
   ]
  },
  {
   "cell_type": "markdown",
   "metadata": {},
   "source": [
    "## Authors\n"
   ]
  },
  {
   "cell_type": "markdown",
   "metadata": {},
   "source": [
    "Ramesh Sannareddy, Joseph Santarcangelo and Azim Hirjani\n"
   ]
  },
  {
   "cell_type": "markdown",
   "metadata": {},
   "source": [
    "### Other Contributors\n"
   ]
  },
  {
   "cell_type": "markdown",
   "metadata": {},
   "source": [
    "Rav Ahuja\n"
   ]
  },
  {
   "cell_type": "markdown",
   "metadata": {},
   "source": [
    "## Change Log\n"
   ]
  },
  {
   "cell_type": "markdown",
   "metadata": {},
   "source": [
    "| Date (YYYY-MM-DD) | Version | Changed By        | Change Description                 |\n",
    "| ----------------- | ------- | ----------------- | ---------------------------------- |\n",
    "| 2022-05-06        | 0.3     | Malika            | Updated instructions to get the API and the url|\n",
    "| 2021-04-15        | 0.2     | Malika            | Updated the lab from USD to EUR    |\n",
    "| 2020-11-25        | 0.1     | Ramesh Sannareddy | Created initial version of the lab |\n"
   ]
  },
  {
   "cell_type": "markdown",
   "metadata": {},
   "source": [
    " Copyright © 2020 IBM Corporation. This notebook and its source code are released under the terms of the [MIT License](https://cognitiveclass.ai/mit-license?utm_medium=Exinfluencer&utm_source=Exinfluencer&utm_content=000026UJ&utm_term=10006555&utm_id=NA-SkillsNetwork-Channel-SkillsNetworkCoursesIBMDeveloperSkillsNetworkPY0221ENSkillsNetwork899-2023-01-01&cm_mmc=Email_Newsletter-_-Developer_Ed%2BTech-_-WW_WW-_-SkillsNetwork-Courses-IBM-DA0321EN-SkillsNetwork-21426264&cm_mmca1=000026UJ&cm_mmca2=10006555&cm_mmca3=M12345678&cvosrc=email.Newsletter.M12345678&cvo_campaign=000026UJ).\n"
   ]
  }
 ],
 "metadata": {
  "kernelspec": {
   "display_name": "Python",
   "language": "python",
   "name": "conda-env-python-py"
  },
  "language_info": {
   "codemirror_mode": {
    "name": "ipython",
    "version": 3
   },
   "file_extension": ".py",
   "mimetype": "text/x-python",
   "name": "python",
   "nbconvert_exporter": "python",
   "pygments_lexer": "ipython3",
   "version": "3.7.12"
  }
 },
 "nbformat": 4,
 "nbformat_minor": 4
}
